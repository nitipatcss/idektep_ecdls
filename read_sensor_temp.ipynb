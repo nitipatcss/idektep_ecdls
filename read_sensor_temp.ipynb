{
 "cells": [
  {
   "cell_type": "code",
   "execution_count": 13,
   "metadata": {},
   "outputs": [
    {
     "ename": "KeyboardInterrupt",
     "evalue": "",
     "output_type": "error",
     "traceback": [
      "\u001b[1;31m---------------------------------------------------------------------------\u001b[0m",
      "\u001b[1;31mKeyboardInterrupt\u001b[0m                         Traceback (most recent call last)",
      "Input \u001b[1;32mIn [13]\u001b[0m, in \u001b[0;36m<cell line: 23>\u001b[1;34m()\u001b[0m\n\u001b[0;32m     29\u001b[0m \u001b[38;5;28;01mexcept\u001b[39;00m \u001b[38;5;167;01mException\u001b[39;00m \u001b[38;5;28;01mas\u001b[39;00m e:\n\u001b[0;32m     30\u001b[0m     \u001b[38;5;66;03m# print(\"Error:\", e)\u001b[39;00m\n\u001b[0;32m     31\u001b[0m     \u001b[38;5;28;01mpass\u001b[39;00m\n\u001b[1;32m---> 33\u001b[0m \u001b[43mtime\u001b[49m\u001b[38;5;241;43m.\u001b[39;49m\u001b[43msleep\u001b[49m\u001b[43m(\u001b[49m\u001b[38;5;241;43m1\u001b[39;49m\u001b[43m)\u001b[49m\n",
      "\u001b[1;31mKeyboardInterrupt\u001b[0m: "
     ]
    }
   ],
   "source": [
    "import minimalmodbus\n",
    "import time\n",
    "import json\n",
    "\n",
    "instrument = minimalmodbus.Instrument(\"/dev/ttyUSB0\", 1)\n",
    "\n",
    "instrument.serial.baudrate = 4800\n",
    "instrument.serial.bytesize = 8\n",
    "instrument.serial.parity = minimalmodbus.serial.PARITY_NONE\n",
    "instrument.serial.stopbits = 1\n",
    "instrument.serial.timeout = 0.05\n",
    "\n",
    "\n",
    "def read_modbus_to_json(registers):\n",
    "    data = {\n",
    "        \"temp\": registers[0],\n",
    "        \"humit\": registers[1],\n",
    "    }\n",
    "    return json.dump(data)\n",
    "\n",
    "\n",
    "while True:\n",
    "    try:\n",
    "        registers = instrument.read_registers(registeraddress=0, number_of_registers=3, functioncode=3)\n",
    "        json_data = read_modbus_to_json(registers)\n",
    "\n",
    "    except Exception as e:\n",
    "        # print(\"Error:\", e)\n",
    "        pass\n",
    "\n",
    "    time.sleep(1)  # Wait for 1 second before reading again"
   ]
  },
  {
   "cell_type": "code",
   "execution_count": null,
   "metadata": {},
   "outputs": [],
   "source": []
  }
 ],
 "metadata": {
  "kernelspec": {
   "display_name": "dataeng",
   "language": "python",
   "name": "python3"
  },
  "language_info": {
   "codemirror_mode": {
    "name": "ipython",
    "version": 3
   },
   "file_extension": ".py",
   "mimetype": "text/x-python",
   "name": "python",
   "nbconvert_exporter": "python",
   "pygments_lexer": "ipython3",
   "version": "3.8.13"
  }
 },
 "nbformat": 4,
 "nbformat_minor": 2
}
